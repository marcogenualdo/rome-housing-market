{
 "cells": [
  {
   "cell_type": "markdown",
   "metadata": {},
   "source": [
    "# **Analysis of the Rome housing market**"
   ]
  },
  {
   "cell_type": "code",
   "execution_count": 1,
   "metadata": {},
   "outputs": [],
   "source": [
    "%matplotlib inline\n",
    "\n",
    "import re\n",
    "import numpy as np\n",
    "import pandas as pd\n",
    "from scipy.stats import norm\n",
    "\n",
    "from matplotlib import pyplot as plt\n",
    "from PIL import Image\n",
    "import seaborn as sns\n",
    "\n",
    "sns.set(style='whitegrid')\n",
    "pd.options.display.float_format = '{:,.2f}'.format"
   ]
  },
  {
   "cell_type": "markdown",
   "metadata": {},
   "source": [
    "# Data cleaning and single variable exploration"
   ]
  },
  {
   "cell_type": "markdown",
   "metadata": {},
   "source": [
    "## Error rates\n",
    "\n",
    "Of course no scraper is perfect, and the one I made was no exception. I took care of logging the errors made, keeping track of the insertion number and the field that could not be retrieved correctly."
   ]
  },
  {
   "cell_type": "code",
   "execution_count": 2,
   "metadata": {},
   "outputs": [
    {
     "data": {
      "text/html": [
       "<div>\n",
       "<style scoped>\n",
       "    .dataframe tbody tr th:only-of-type {\n",
       "        vertical-align: middle;\n",
       "    }\n",
       "\n",
       "    .dataframe tbody tr th {\n",
       "        vertical-align: top;\n",
       "    }\n",
       "\n",
       "    .dataframe thead th {\n",
       "        text-align: right;\n",
       "    }\n",
       "</style>\n",
       "<table border=\"1\" class=\"dataframe\">\n",
       "  <thead>\n",
       "    <tr style=\"text-align: right;\">\n",
       "      <th></th>\n",
       "      <th>id</th>\n",
       "      <th>field</th>\n",
       "    </tr>\n",
       "  </thead>\n",
       "  <tbody>\n",
       "    <tr>\n",
       "      <th>0</th>\n",
       "      <td>6</td>\n",
       "      <td>energy_rating</td>\n",
       "    </tr>\n",
       "    <tr>\n",
       "      <th>1</th>\n",
       "      <td>7</td>\n",
       "      <td>house_type</td>\n",
       "    </tr>\n",
       "    <tr>\n",
       "      <th>2</th>\n",
       "      <td>10</td>\n",
       "      <td>house_type</td>\n",
       "    </tr>\n",
       "    <tr>\n",
       "      <th>3</th>\n",
       "      <td>10</td>\n",
       "      <td>energy_rating</td>\n",
       "    </tr>\n",
       "    <tr>\n",
       "      <th>4</th>\n",
       "      <td>12</td>\n",
       "      <td>house_type</td>\n",
       "    </tr>\n",
       "    <tr>\n",
       "      <th>5</th>\n",
       "      <td>14</td>\n",
       "      <td>energy_rating</td>\n",
       "    </tr>\n",
       "    <tr>\n",
       "      <th>6</th>\n",
       "      <td>16</td>\n",
       "      <td>house_type</td>\n",
       "    </tr>\n",
       "    <tr>\n",
       "      <th>7</th>\n",
       "      <td>18</td>\n",
       "      <td>house_type</td>\n",
       "    </tr>\n",
       "  </tbody>\n",
       "</table>\n",
       "</div>"
      ],
      "text/plain": [
       "   id          field\n",
       "0   6  energy_rating\n",
       "1   7     house_type\n",
       "2  10     house_type\n",
       "3  10  energy_rating\n",
       "4  12     house_type\n",
       "5  14  energy_rating\n",
       "6  16     house_type\n",
       "7  18     house_type"
      ]
     },
     "execution_count": 2,
     "metadata": {},
     "output_type": "execute_result"
    }
   ],
   "source": [
    "with open('data/immobiliare_errors.csv', 'r') as error_file:\n",
    "    error_log = pd.read_csv(error_file, header=None, names=['id', 'field'])\n",
    "error_log.head(8)"
   ]
  },
  {
   "cell_type": "markdown",
   "metadata": {},
   "source": [
    "Plotting the error frequency. Roughly one fourth of the data has no valid entry for `energy_rating` or `house_type`, but luckily important entries such as `price` or `rooms` have error rates below 5%."
   ]
  },
  {
   "cell_type": "code",
   "execution_count": 3,
   "metadata": {},
   "outputs": [
    {
     "data": {
      "text/plain": [
       "Text(0, 0.5, '')"
      ]
     },
     "execution_count": 3,
     "metadata": {},
     "output_type": "execute_result"
    },
    {
     "data": {
      "image/png": "[encoded data removed]",
      "text/plain": [
       "<Figure size 432x288 with 1 Axes>"
      ]
     },
     "metadata": {
      "needs_background": "light"
     },
     "output_type": "display_data"
    }
   ],
   "source": [
    "err_ax = sns.countplot(y='field', data=error_log)\n",
    "err_ax.set_title('Errors by category')\n",
    "err_ax.set_ylabel('')"
   ]
  },
  {
   "cell_type": "markdown",
   "metadata": {},
   "source": [
    "## General information about the dataset"
   ]
  },
  {
   "cell_type": "code",
   "execution_count": 4,
   "metadata": {},
   "outputs": [],
   "source": [
    "with open('data/immobiliare_data_raw.csv', 'r') as data_file:\n",
    "    data = pd.read_csv(data_file)"
   ]
  },
  {
   "cell_type": "code",
   "execution_count": 5,
   "metadata": {},
   "outputs": [
    {
     "name": "stdout",
     "output_type": "stream",
     "text": [
      "(Rows, Columns) = (41900, 13)\n"
     ]
    }
   ],
   "source": [
    "print(\"(Rows, Columns) =\", data.shape)"
   ]
  },
  {
   "cell_type": "markdown",
   "metadata": {},
   "source": [
    "The data scraped from [immobiliare.it](https://www.immobiliare.it/) looks like this."
   ]
  },
  {
   "cell_type": "code",
   "execution_count": 6,
   "metadata": {},
   "outputs": [
    {
     "data": {
      "text/html": [
       "<div>\n",
       "<style scoped>\n",
       "    .dataframe tbody tr th:only-of-type {\n",
       "        vertical-align: middle;\n",
       "    }\n",
       "\n",
       "    .dataframe tbody tr th {\n",
       "        vertical-align: top;\n",
       "    }\n",
       "\n",
       "    .dataframe thead th {\n",
       "        text-align: right;\n",
       "    }\n",
       "</style>\n",
       "<table border=\"1\" class=\"dataframe\">\n",
       "  <thead>\n",
       "    <tr style=\"text-align: right;\">\n",
       "      <th></th>\n",
       "      <th>address</th>\n",
       "      <th>price</th>\n",
       "      <th>square_meters</th>\n",
       "      <th>rooms</th>\n",
       "      <th>baths</th>\n",
       "      <th>floor</th>\n",
       "      <th>type</th>\n",
       "      <th>year_built</th>\n",
       "      <th>condition</th>\n",
       "      <th>energy_rating</th>\n",
       "      <th>longitude</th>\n",
       "      <th>latitude</th>\n",
       "      <th>agency</th>\n",
       "    </tr>\n",
       "  </thead>\n",
       "  <tbody>\n",
       "    <tr>\n",
       "      <th>0</th>\n",
       "      <td>via Anneo Lucano 42, Roma</td>\n",
       "      <td>630000</td>\n",
       "      <td>144</td>\n",
       "      <td>4</td>\n",
       "      <td>3</td>\n",
       "      <td>4</td>\n",
       "      <td>Appartamento</td>\n",
       "      <td>1967</td>\n",
       "      <td>Ottimo/Ristrutturato</td>\n",
       "      <td>E</td>\n",
       "      <td>41.92</td>\n",
       "      <td>12.44</td>\n",
       "      <td>RE/MAX Abacus</td>\n",
       "    </tr>\n",
       "    <tr>\n",
       "      <th>1</th>\n",
       "      <td>via dei Colli della Farnesina 72, Roma</td>\n",
       "      <td>1090000</td>\n",
       "      <td>198</td>\n",
       "      <td>5</td>\n",
       "      <td>3</td>\n",
       "      <td>4</td>\n",
       "      <td>Appartamento</td>\n",
       "      <td>1966</td>\n",
       "      <td>Ottimo / Ristrutturato</td>\n",
       "      <td>E</td>\n",
       "      <td>41.94</td>\n",
       "      <td>12.45</td>\n",
       "      <td>RE/MAX Abacus</td>\n",
       "    </tr>\n",
       "    <tr>\n",
       "      <th>2</th>\n",
       "      <td>viale Pola, Roma</td>\n",
       "      <td>1200000</td>\n",
       "      <td>208</td>\n",
       "      <td>5</td>\n",
       "      <td>3</td>\n",
       "      <td>0</td>\n",
       "      <td>Appartamento</td>\n",
       "      <td>1956</td>\n",
       "      <td>Buono / Abitabile</td>\n",
       "      <td>F</td>\n",
       "      <td>41.64</td>\n",
       "      <td>12.44</td>\n",
       "      <td>KELLER WILLIAMS</td>\n",
       "    </tr>\n",
       "    <tr>\n",
       "      <th>3</th>\n",
       "      <td>NaN</td>\n",
       "      <td>690000</td>\n",
       "      <td>103</td>\n",
       "      <td>4</td>\n",
       "      <td>1</td>\n",
       "      <td>4</td>\n",
       "      <td>Attico</td>\n",
       "      <td>1935</td>\n",
       "      <td>Ottimo / Ristrutturato</td>\n",
       "      <td>F</td>\n",
       "      <td>44.93</td>\n",
       "      <td>7.54</td>\n",
       "      <td>Engel &amp; Völkers Roma • Market Center</td>\n",
       "    </tr>\n",
       "    <tr>\n",
       "      <th>4</th>\n",
       "      <td>via Vincenzo Troya, Roma</td>\n",
       "      <td>239000</td>\n",
       "      <td>90</td>\n",
       "      <td>3</td>\n",
       "      <td>1</td>\n",
       "      <td>0</td>\n",
       "      <td>Appartamento</td>\n",
       "      <td>1960</td>\n",
       "      <td>Buono / Abitabile</td>\n",
       "      <td>G</td>\n",
       "      <td>41.94</td>\n",
       "      <td>12.42</td>\n",
       "      <td>Bovi RE</td>\n",
       "    </tr>\n",
       "    <tr>\n",
       "      <th>5</th>\n",
       "      <td>via del Moro 23, Roma</td>\n",
       "      <td>370000</td>\n",
       "      <td>66</td>\n",
       "      <td>3</td>\n",
       "      <td>1</td>\n",
       "      <td>2</td>\n",
       "      <td>Appartamento</td>\n",
       "      <td>1500</td>\n",
       "      <td>Ottimo / Ristrutturato</td>\n",
       "      <td>G</td>\n",
       "      <td>41.89</td>\n",
       "      <td>12.47</td>\n",
       "      <td>Coldwell Banker Exclusive RE</td>\n",
       "    </tr>\n",
       "    <tr>\n",
       "      <th>6</th>\n",
       "      <td>via Dobbiaco 10, Roma</td>\n",
       "      <td>179000</td>\n",
       "      <td>59</td>\n",
       "      <td>2</td>\n",
       "      <td>1</td>\n",
       "      <td>1</td>\n",
       "      <td>Appartamento</td>\n",
       "      <td>NaN</td>\n",
       "      <td>€ 50/mese</td>\n",
       "      <td>0</td>\n",
       "      <td>41.74</td>\n",
       "      <td>12.38</td>\n",
       "      <td>Colossea</td>\n",
       "    </tr>\n",
       "    <tr>\n",
       "      <th>7</th>\n",
       "      <td>via Bersone, Roma</td>\n",
       "      <td>349000</td>\n",
       "      <td>218</td>\n",
       "      <td>4</td>\n",
       "      <td>3</td>\n",
       "      <td>-2</td>\n",
       "      <td>NaN</td>\n",
       "      <td>2007</td>\n",
       "      <td>Ottimo / Ristrutturato</td>\n",
       "      <td>F</td>\n",
       "      <td>41.73</td>\n",
       "      <td>12.37</td>\n",
       "      <td>Colossea</td>\n",
       "    </tr>\n",
       "    <tr>\n",
       "      <th>8</th>\n",
       "      <td>via Ostiense 85, Roma</td>\n",
       "      <td>419000</td>\n",
       "      <td>93</td>\n",
       "      <td>3</td>\n",
       "      <td>3</td>\n",
       "      <td>1</td>\n",
       "      <td>Appartamento</td>\n",
       "      <td>1960</td>\n",
       "      <td>Ottimo/Ristrutturato</td>\n",
       "      <td>G</td>\n",
       "      <td>41.87</td>\n",
       "      <td>12.48</td>\n",
       "      <td>Bovi RE</td>\n",
       "    </tr>\n",
       "    <tr>\n",
       "      <th>9</th>\n",
       "      <td>viale Parioli, Roma</td>\n",
       "      <td>1250000</td>\n",
       "      <td>150</td>\n",
       "      <td>4</td>\n",
       "      <td>2</td>\n",
       "      <td>3</td>\n",
       "      <td>Appartamento</td>\n",
       "      <td>1952</td>\n",
       "      <td>Da ristrutturare</td>\n",
       "      <td>G</td>\n",
       "      <td>41.93</td>\n",
       "      <td>12.48</td>\n",
       "      <td>Coldwell Banker Exclusive RE</td>\n",
       "    </tr>\n",
       "  </tbody>\n",
       "</table>\n",
       "</div>"
      ],
      "text/plain": [
       "                                  address    price  square_meters  rooms  \\\n",
       "0               via Anneo Lucano 42, Roma   630000            144      4   \n",
       "1  via dei Colli della Farnesina 72, Roma  1090000            198      5   \n",
       "2                        viale Pola, Roma  1200000            208      5   \n",
       "3                                     NaN   690000            103      4   \n",
       "4                via Vincenzo Troya, Roma   239000             90      3   \n",
       "5                   via del Moro 23, Roma   370000             66      3   \n",
       "6                   via Dobbiaco 10, Roma   179000             59      2   \n",
       "7                       via Bersone, Roma   349000            218      4   \n",
       "8                   via Ostiense 85, Roma   419000             93      3   \n",
       "9                     viale Parioli, Roma  1250000            150      4   \n",
       "\n",
       "   baths  floor          type year_built               condition  \\\n",
       "0      3      4  Appartamento       1967    Ottimo/Ristrutturato   \n",
       "1      3      4  Appartamento       1966  Ottimo / Ristrutturato   \n",
       "2      3      0  Appartamento       1956       Buono / Abitabile   \n",
       "3      1      4        Attico       1935  Ottimo / Ristrutturato   \n",
       "4      1      0  Appartamento       1960       Buono / Abitabile   \n",
       "5      1      2  Appartamento       1500  Ottimo / Ristrutturato   \n",
       "6      1      1  Appartamento        NaN               € 50/mese   \n",
       "7      3     -2           NaN       2007  Ottimo / Ristrutturato   \n",
       "8      3      1  Appartamento       1960    Ottimo/Ristrutturato   \n",
       "9      2      3  Appartamento       1952        Da ristrutturare   \n",
       "\n",
       "  energy_rating  longitude  latitude                                agency  \n",
       "0             E      41.92     12.44                         RE/MAX Abacus  \n",
       "1             E      41.94     12.45                         RE/MAX Abacus  \n",
       "2             F      41.64     12.44                       KELLER WILLIAMS  \n",
       "3             F      44.93      7.54  Engel & Völkers Roma • Market Center  \n",
       "4             G      41.94     12.42                              Bovi RE   \n",
       "5             G      41.89     12.47         Coldwell Banker Exclusive RE   \n",
       "6             0      41.74     12.38                              Colossea  \n",
       "7             F      41.73     12.37                              Colossea  \n",
       "8             G      41.87     12.48                              Bovi RE   \n",
       "9             G      41.93     12.48         Coldwell Banker Exclusive RE   "
      ]
     },
     "execution_count": 6,
     "metadata": {},
     "output_type": "execute_result"
    }
   ],
   "source": [
    "data.head(10)"
   ]
  },
  {
   "cell_type": "code",
   "execution_count": 7,
   "metadata": {},
   "outputs": [
    {
     "data": {
      "text/html": [
       "<div>\n",
       "<style scoped>\n",
       "    .dataframe tbody tr th:only-of-type {\n",
       "        vertical-align: middle;\n",
       "    }\n",
       "\n",
       "    .dataframe tbody tr th {\n",
       "        vertical-align: top;\n",
       "    }\n",
       "\n",
       "    .dataframe thead th {\n",
       "        text-align: right;\n",
       "    }\n",
       "</style>\n",
       "<table border=\"1\" class=\"dataframe\">\n",
       "  <thead>\n",
       "    <tr style=\"text-align: right;\">\n",
       "      <th></th>\n",
       "      <th>price</th>\n",
       "      <th>square_meters</th>\n",
       "      <th>rooms</th>\n",
       "      <th>baths</th>\n",
       "      <th>floor</th>\n",
       "      <th>longitude</th>\n",
       "      <th>latitude</th>\n",
       "    </tr>\n",
       "  </thead>\n",
       "  <tbody>\n",
       "    <tr>\n",
       "      <th>count</th>\n",
       "      <td>41,900.00</td>\n",
       "      <td>41,900.00</td>\n",
       "      <td>41,900.00</td>\n",
       "      <td>41,900.00</td>\n",
       "      <td>41,900.00</td>\n",
       "      <td>41,900.00</td>\n",
       "      <td>41,900.00</td>\n",
       "    </tr>\n",
       "    <tr>\n",
       "      <th>mean</th>\n",
       "      <td>63,991,840.06</td>\n",
       "      <td>6,396.85</td>\n",
       "      <td>4.62</td>\n",
       "      <td>4.82</td>\n",
       "      <td>9.45</td>\n",
       "      <td>41.08</td>\n",
       "      <td>11.78</td>\n",
       "    </tr>\n",
       "    <tr>\n",
       "      <th>std</th>\n",
       "      <td>4,153,319,427.70</td>\n",
       "      <td>32,590.06</td>\n",
       "      <td>35.82</td>\n",
       "      <td>31.01</td>\n",
       "      <td>27.66</td>\n",
       "      <td>6.64</td>\n",
       "      <td>2.90</td>\n",
       "    </tr>\n",
       "    <tr>\n",
       "      <th>min</th>\n",
       "      <td>0.00</td>\n",
       "      <td>0.00</td>\n",
       "      <td>0.00</td>\n",
       "      <td>0.00</td>\n",
       "      <td>-2.00</td>\n",
       "      <td>-32.81</td>\n",
       "      <td>-117.65</td>\n",
       "    </tr>\n",
       "    <tr>\n",
       "      <th>25%</th>\n",
       "      <td>175,000.00</td>\n",
       "      <td>70.00</td>\n",
       "      <td>2.00</td>\n",
       "      <td>1.00</td>\n",
       "      <td>-1.00</td>\n",
       "      <td>41.83</td>\n",
       "      <td>12.38</td>\n",
       "    </tr>\n",
       "    <tr>\n",
       "      <th>50%</th>\n",
       "      <td>260,000.00</td>\n",
       "      <td>97.00</td>\n",
       "      <td>3.00</td>\n",
       "      <td>2.00</td>\n",
       "      <td>1.00</td>\n",
       "      <td>41.89</td>\n",
       "      <td>12.47</td>\n",
       "    </tr>\n",
       "    <tr>\n",
       "      <th>75%</th>\n",
       "      <td>419,000.00</td>\n",
       "      <td>143.00</td>\n",
       "      <td>4.00</td>\n",
       "      <td>2.00</td>\n",
       "      <td>3.00</td>\n",
       "      <td>41.94</td>\n",
       "      <td>12.55</td>\n",
       "    </tr>\n",
       "    <tr>\n",
       "      <th>max</th>\n",
       "      <td>418,000,540,000.00</td>\n",
       "      <td>310,120.00</td>\n",
       "      <td>2,500.00</td>\n",
       "      <td>3,288.00</td>\n",
       "      <td>100.00</td>\n",
       "      <td>51.93</td>\n",
       "      <td>121.44</td>\n",
       "    </tr>\n",
       "  </tbody>\n",
       "</table>\n",
       "</div>"
      ],
      "text/plain": [
       "                   price  square_meters     rooms     baths     floor  \\\n",
       "count          41,900.00      41,900.00 41,900.00 41,900.00 41,900.00   \n",
       "mean       63,991,840.06       6,396.85      4.62      4.82      9.45   \n",
       "std     4,153,319,427.70      32,590.06     35.82     31.01     27.66   \n",
       "min                 0.00           0.00      0.00      0.00     -2.00   \n",
       "25%           175,000.00          70.00      2.00      1.00     -1.00   \n",
       "50%           260,000.00          97.00      3.00      2.00      1.00   \n",
       "75%           419,000.00         143.00      4.00      2.00      3.00   \n",
       "max   418,000,540,000.00     310,120.00  2,500.00  3,288.00    100.00   \n",
       "\n",
       "       longitude  latitude  \n",
       "count  41,900.00 41,900.00  \n",
       "mean       41.08     11.78  \n",
       "std         6.64      2.90  \n",
       "min       -32.81   -117.65  \n",
       "25%        41.83     12.38  \n",
       "50%        41.89     12.47  \n",
       "75%        41.94     12.55  \n",
       "max        51.93    121.44  "
      ]
     },
     "execution_count": 7,
     "metadata": {},
     "output_type": "execute_result"
    }
   ],
   "source": [
    "data.describe()"
   ]
  },
  {
   "cell_type": "code",
   "execution_count": 8,
   "metadata": {},
   "outputs": [
    {
     "data": {
      "text/plain": [
       "address           object\n",
       "price              int64\n",
       "square_meters      int64\n",
       "rooms              int64\n",
       "baths              int64\n",
       "floor              int64\n",
       "type              object\n",
       "year_built        object\n",
       "condition         object\n",
       "energy_rating     object\n",
       "longitude        float64\n",
       "latitude         float64\n",
       "agency            object\n",
       "dtype: object"
      ]
     },
     "execution_count": 8,
     "metadata": {},
     "output_type": "execute_result"
    }
   ],
   "source": [
    "data.dtypes"
   ]
  },
  {
   "cell_type": "markdown",
   "metadata": {},
   "source": [
    "Now we'll start exploring the varibles and cleaning them, from right to left."
   ]
  },
  {
   "cell_type": "markdown",
   "metadata": {},
   "source": [
    "## Agency"
   ]
  },
  {
   "cell_type": "code",
   "execution_count": 9,
   "metadata": {},
   "outputs": [
    {
     "name": "stdout",
     "output_type": "stream",
     "text": [
      "There are 2416 listed agencies.\n"
     ]
    },
    {
     "data": {
      "text/plain": [
       "Text(0.5, 1.0, 'Agencies Counts')"
      ]
     },
     "execution_count": 9,
     "metadata": {},
     "output_type": "execute_result"
    },
    {
     "data": {
      "image/png": "[encoded data removed]",
      "text/plain": [
       "<Figure size 1080x1080 with 1 Axes>"
      ]
     },
     "metadata": {
      "needs_background": "light"
     },
     "output_type": "display_data"
    }
   ],
   "source": [
    "agencies = data.agency.value_counts().sort_values(ascending=True)\n",
    "print(\"There are\", len(agencies), \"listed agencies.\")\n",
    "agencies = agencies[agencies > 100]\n",
    "\n",
    "plt.figure(figsize=(15,15))\n",
    "plt.barh(width=agencies, y=agencies.index)\n",
    "plt.title('Agencies Counts')"
   ]
  },
  {
   "cell_type": "markdown",
   "metadata": {},
   "source": [
    "## Coordinates"
   ]
  },
  {
   "cell_type": "code",
   "execution_count": 10,
   "metadata": {},
   "outputs": [
    {
     "data": {
      "text/plain": [
       "<matplotlib.axes._subplots.AxesSubplot at 0x7f50d7b25b38>"
      ]
     },
     "execution_count": 10,
     "metadata": {},
     "output_type": "execute_result"
    },
    {
     "data": {
      "image/png": "[encoded data removed]",
      "text/plain": [
       "<Figure size 936x936 with 1 Axes>"
      ]
     },
     "metadata": {
      "needs_background": "light"
     },
     "output_type": "display_data"
    }
   ],
   "source": [
    "coord_data = data.loc[\n",
    "    (data.latitude < 25) & \n",
    "    (data.latitude > 4) & \n",
    "    (data.longitude < 48) & \n",
    "    (data.longitude > 35)\n",
    "]\n",
    "\n",
    "plt.figure(figsize=(13,13))\n",
    "sns.scatterplot(\n",
    "    x='latitude',\n",
    "    y='longitude',\n",
    "    data=coord_data\n",
    ")"
   ]
  },
  {
   "cell_type": "markdown",
   "metadata": {},
   "source": [
    "## Energy ratings"
   ]
  },
  {
   "cell_type": "code",
   "execution_count": 11,
   "metadata": {},
   "outputs": [
    {
     "data": {
      "text/plain": [
       "585    A1, edificio energia quasi zero\n",
       "628    A2, edificio energia quasi zero\n",
       "695    A2, edificio energia quasi zero\n",
       "724    A1, edificio energia quasi zero\n",
       "735    A2, edificio energia quasi zero\n",
       "Name: energy_rating, dtype: object"
      ]
     },
     "execution_count": 11,
     "metadata": {},
     "output_type": "execute_result"
    }
   ],
   "source": [
    "# entries having some text trailing\n",
    "energy_class_begin_regex = re.compile('[A-G][1-4\\+]?,.+')\n",
    "dirty_energy_data = data.energy_rating.loc[\n",
    "    data.energy_rating.str.contains(energy_class_begin_regex)\n",
    "]\n",
    "dirty_energy_data.head()"
   ]
  },
  {
   "cell_type": "code",
   "execution_count": 12,
   "metadata": {},
   "outputs": [
    {
     "name": "stdout",
     "output_type": "stream",
     "text": [
      "There are 6652 entries of type:\n",
      "247    ≥ 3,51 kWh/m²a\n",
      "248    175,00 kWh/m²a\n",
      "250    175,00 kWh/m²a\n",
      "253    119,00 kWh/m²a\n",
      "260    175,00 kWh/m²a\n",
      "395    175,00 kWh/m²a\n",
      "422    175,00 kWh/m²a\n",
      "426    175,00 kWh/m²a\n",
      "427    175,00 kWh/m²a\n",
      "428    175,00 kWh/m²a\n",
      "Name: energy_rating, dtype: object\n"
     ]
    },
    {
     "name": "stderr",
     "output_type": "stream",
     "text": [
      "/home/jonny/.local/lib/python3.6/site-packages/pandas/core/indexing.py:189: SettingWithCopyWarning: \n",
      "A value is trying to be set on a copy of a slice from a DataFrame\n",
      "\n",
      "See the caveats in the documentation: http://pandas.pydata.org/pandas-docs/stable/indexing.html#indexing-view-versus-copy\n",
      "  self._setitem_with_indexer(indexer, value)\n"
     ]
    }
   ],
   "source": [
    "# cleaning data - part 1\n",
    "take_energy = lambda s: s.split(',')[0]\n",
    "data.energy_rating.iloc[dirty_energy_data.index] = dirty_energy_data.apply(take_energy)\n",
    "\n",
    "# getting numerical energy formats\n",
    "other_energy_formats = data.energy_rating.loc[data.energy_rating.str.contains('.*[1-9].*kWh/m²a')]\n",
    "print(\"There are\", len(other_energy_formats), \"entries of type:\")\n",
    "print(other_energy_formats.head(10))"
   ]
  },
  {
   "cell_type": "markdown",
   "metadata": {},
   "source": [
    "![alt text](assets/classe-energetica.jpg)"
   ]
  },
  {
   "cell_type": "code",
   "execution_count": 13,
   "metadata": {},
   "outputs": [],
   "source": [
    "energy_tr = {\n",
    "    10: 'A+',\n",
    "    30: 'A',\n",
    "    50: 'B',\n",
    "    70: 'C',\n",
    "    90: 'D',\n",
    "    120:'E',\n",
    "    160: 'F',\n",
    "    1000: 'G'\n",
    "}\n",
    "\n",
    "get_number = lambda s: int(re.compile('[1-9]+').findall(s)[0])\n",
    "get_class = lambda s: energy_tr[min([n for n in energy_tr.keys() if n >= get_number(s)])]\n",
    "\n",
    "data.energy_rating.iloc[other_energy_formats.index] = other_energy_formats.apply(get_class)"
   ]
  },
  {
   "cell_type": "code",
   "execution_count": 14,
   "metadata": {},
   "outputs": [
    {
     "data": {
      "text/plain": [
       "Text(0.5, 1.0, 'Energy Classes Counts')"
      ]
     },
     "execution_count": 14,
     "metadata": {},
     "output_type": "execute_result"
    },
    {
     "data": {
      "image/png": "[encoded data removed]",
      "text/plain": [
       "<Figure size 432x288 with 1 Axes>"
      ]
     },
     "metadata": {
      "needs_background": "light"
     },
     "output_type": "display_data"
    }
   ],
   "source": [
    "# entries exactly matching an energy rating\n",
    "energy_class_regex = re.compile('[A-G][1-4\\+]?$')\n",
    "energy_data = data.energy_rating.loc[data.energy_rating.str.match(energy_class_regex)]\n",
    "\n",
    "energy_hist = energy_data.value_counts()\n",
    "energy_hist = energy_hist.sort_index()\n",
    "\n",
    "plt.bar(x=energy_hist.index, height=energy_hist)\n",
    "plt.title('Energy Classes Counts')"
   ]
  },
  {
   "cell_type": "code",
   "execution_count": 15,
   "metadata": {},
   "outputs": [
    {
     "data": {
      "text/plain": [
       "Text(0.5, 1.0, 'Energy ratings (As bundled together)')"
      ]
     },
     "execution_count": 15,
     "metadata": {},
     "output_type": "execute_result"
    },
    {
     "data": {
      "image/png": "[encoded data removed]",
      "text/plain": [
       "<Figure size 432x288 with 1 Axes>"
      ]
     },
     "metadata": {
      "needs_background": "light"
     },
     "output_type": "display_data"
    }
   ],
   "source": [
    "# bundling As together\n",
    "energy_A = re.compile('A')\n",
    "energy_hist['A'] = energy_hist.loc[energy_hist.index.str.match(energy_A)].sum()\n",
    "energy_hist = energy_hist.drop(['A+','A1','A2', 'A3', 'A4'])\n",
    "\n",
    "plt.bar(x=energy_hist.index, height=energy_hist)\n",
    "plt.title('Energy ratings (As bundled together)')"
   ]
  },
  {
   "cell_type": "code",
   "execution_count": 16,
   "metadata": {},
   "outputs": [
    {
     "data": {
      "text/plain": [
       "A    8.77\n",
       "B    1.91\n",
       "C    1.62\n",
       "D    1.95\n",
       "E    3.08\n",
       "F    7.51\n",
       "G   75.16\n",
       "Name: energy_rating, dtype: float64"
      ]
     },
     "execution_count": 16,
     "metadata": {},
     "output_type": "execute_result"
    }
   ],
   "source": [
    "# percentages\n",
    "energy_hist / energy_data.shape[0] * 100"
   ]
  },
  {
   "cell_type": "markdown",
   "metadata": {},
   "source": [
    "## Condition and year built\n",
    "\n",
    "- in alcune pagine non era indicata la tipologia della casa in un apposito campo, ma solo la classe catastale, 'A/2' e 'A/7' nei casi osservati, che corrispondono alle Ville e ai Villini\n",
    "- in altre pagine la condizione dell'appartamento appariva nel campo solitamente destinato all'anno\n",
    "\n",
    "Eliminiamo i due fenomeni."
   ]
  },
  {
   "cell_type": "code",
   "execution_count": 19,
   "metadata": {},
   "outputs": [
    {
     "name": "stdout",
     "output_type": "stream",
     "text": [
      "Wrong Apartment entries: 21\n",
      "Wrong house entries: 51\n",
      "Wrong year entries: 7938\n"
     ]
    }
   ],
   "source": [
    "types_list = [\n",
    "    'Appartamento',\n",
    "    'Attico',\n",
    "    'Loft',\n",
    "    'Open Space',\n",
    "    'Mansarda',\n",
    "    'Soffitta'\n",
    "]\n",
    "\n",
    "condition_list = [\n",
    "    'Nuovo / In costruzione',\n",
    "    'Nuovo/In costruzione'\n",
    "    'Da ristrutturare',\n",
    "    'Da ristrutturare',\n",
    "    'Ottimo/Ristrutturato',\n",
    "    'Ottimo / Ristrutturato',\n",
    "    'Buono / Abitabile',\n",
    "    'Buono/Abitabile'\n",
    "]\n",
    "\n",
    "wrong_apt_idxs = (\n",
    "    (~data.type.isin(types_list)) &\n",
    "    (data.condition.str.contains('Classe A/2'))\n",
    ")\n",
    "wrong_vil_idxs = (\n",
    "    (~data.type.isin(types_list)) &\n",
    "    (data.condition.str.contains('Classe A/7'))\n",
    ")\n",
    "wrong_year_idxs = (\n",
    "    (~data.condition.isin(condition_list)) &\n",
    "    (data.year_built.isin(condition_list))\n",
    ")\n",
    "\n",
    "wrong_apt_idxs = wrong_apt_idxs[wrong_apt_idxs].index\n",
    "wrong_vil_idxs = wrong_vil_idxs[wrong_vil_idxs].index\n",
    "wrong_year_idxs = wrong_year_idxs[wrong_year_idxs].index\n",
    "        \n",
    "print(\"Wrong Apartment entries:\", len(wrong_apt_idxs))\n",
    "print(\"Wrong house entries:\", len(wrong_vil_idxs))\n",
    "print(\"Wrong year entries:\", len(wrong_year_idxs))"
   ]
  },
  {
   "cell_type": "markdown",
   "metadata": {},
   "source": [
    "Correggiamo gli errori."
   ]
  },
  {
   "cell_type": "code",
   "execution_count": 20,
   "metadata": {
    "scrolled": true
   },
   "outputs": [],
   "source": [
    "data.loc[wrong_apt_idxs, 'type'] = 'Villa'\n",
    "data.loc[wrong_apt_idxs,'condition'] = np.nan\n",
    "\n",
    "data.loc[wrong_vil_idxs,'type'] = 'Villino'\n",
    "data.loc[wrong_vil_idxs,'condition'] = np.nan\n",
    "\n",
    "data.loc[wrong_year_idxs,'condition'] = data.loc[wrong_year_idxs,'year_built']\n",
    "data.loc[wrong_year_idxs,'year_built'] = np.nan"
   ]
  },
  {
   "cell_type": "code",
   "execution_count": 22,
   "metadata": {},
   "outputs": [],
   "source": [
    "data.loc[data.condition == 'Ottimo/Ristrutturato', 'condition'] = 'Ottimo / Ristrutturato'"
   ]
  },
  {
   "cell_type": "code",
   "execution_count": 23,
   "metadata": {},
   "outputs": [
    {
     "data": {
      "text/plain": [
       "Text(0.5, 0, '')"
      ]
     },
     "execution_count": 23,
     "metadata": {},
     "output_type": "execute_result"
    },
    {
     "data": {
      "image/png": "[encoded data removed]",
      "text/plain": [
       "<Figure size 432x288 with 1 Axes>"
      ]
     },
     "metadata": {
      "needs_background": "light"
     },
     "output_type": "display_data"
    }
   ],
   "source": [
    "conditions = data.condition.loc[data.condition.isin(condition_list)]\n",
    "\n",
    "condtion_ax = sns.countplot(conditions)\n",
    "condtion_ax.set_xticklabels(condtion_ax.get_xticklabels(), rotation=45)\n",
    "condtion_ax.set_xlabel('')"
   ]
  },
  {
   "cell_type": "code",
   "execution_count": 24,
   "metadata": {},
   "outputs": [
    {
     "name": "stdout",
     "output_type": "stream",
     "text": [
      "6                          € 50/mese\n",
      "10                               NaN\n",
      "14                         € 50/mese\n",
      "18                               NaN\n",
      "27                               NaN\n",
      "30     Classe A/7, rendita € 159.000\n",
      "41                               NaN\n",
      "64                         € 70/mese\n",
      "71                               NaN\n",
      "72                               NaN\n",
      "75                               NaN\n",
      "76                               NaN\n",
      "85                               NaN\n",
      "89                        € 300/anno\n",
      "93                         € 70/mese\n",
      "95     Classe A/7, rendita € 169.000\n",
      "104                              NaN\n",
      "106                              NaN\n",
      "113                              NaN\n",
      "118                              NaN\n",
      "126                              NaN\n",
      "129                              NaN\n",
      "133                        € 40/mese\n",
      "135                              NaN\n",
      "136                              NaN\n",
      "157                              NaN\n",
      "176                              NaN\n",
      "181                              NaN\n",
      "186                              NaN\n",
      "193                              NaN\n",
      "Name: condition, dtype: object\n"
     ]
    }
   ],
   "source": [
    "print(data.condition.loc[~data.index.isin(conditions.index)].head(30))"
   ]
  },
  {
   "cell_type": "code",
   "execution_count": 25,
   "metadata": {},
   "outputs": [
    {
     "data": {
      "text/plain": [
       "Text(0.5, 0, 'Decade')"
      ]
     },
     "execution_count": 25,
     "metadata": {},
     "output_type": "execute_result"
    },
    {
     "data": {
      "image/png": "[encoded data removed]",
      "text/plain": [
       "<Figure size 1080x576 with 1 Axes>"
      ]
     },
     "metadata": {
      "needs_background": "light"
     },
     "output_type": "display_data"
    }
   ],
   "source": [
    "year_re = re.compile('\\d{4}')\n",
    "years = data.year_built[(~data.year_built.isnull()) & (data.year_built.str.match(year_re))]\n",
    "years = years.apply(lambda s: s[:3] + '0') #+ str((int(s[3]) // 5) * 5)) # 5 year chunks\n",
    "\n",
    "plt.figure(figsize=(15,8))\n",
    "year_ax = sns.countplot(x=years[years.astype(int) > 1880], color='#0066cc')\n",
    "year_ax.set_xlabel('Decade')"
   ]
  },
  {
   "cell_type": "markdown",
   "metadata": {},
   "source": [
    "## Rooms and Bathrooms"
   ]
  },
  {
   "cell_type": "code",
   "execution_count": 26,
   "metadata": {},
   "outputs": [
    {
     "data": {
      "text/plain": [
       "Text(0.5, 0, '')"
      ]
     },
     "execution_count": 26,
     "metadata": {},
     "output_type": "execute_result"
    },
    {
     "data": {
      "image/png": "[encoded data removed]",
      "text/plain": [
       "<Figure size 432x288 with 1 Axes>"
      ]
     },
     "metadata": {
      "needs_background": "light"
     },
     "output_type": "display_data"
    }
   ],
   "source": [
    "roombath_df = pd.concat([\n",
    "    pd.DataFrame({\n",
    "        'count': data.rooms[data.rooms < 6],\n",
    "        'type': 'rooms'\n",
    "    }),\n",
    "    pd.DataFrame({\n",
    "        'count': data.baths[data.baths < 6],\n",
    "        'type': 'baths'\n",
    "    })\n",
    "])\n",
    "\n",
    "roombath_ax = sns.countplot(x='count', hue='type', data=roombath_df)\n",
    "roombath_ax.set_xlabel('')"
   ]
  },
  {
   "cell_type": "markdown",
   "metadata": {},
   "source": [
    "## Square meters"
   ]
  },
  {
   "cell_type": "code",
   "execution_count": 27,
   "metadata": {},
   "outputs": [
    {
     "name": "stderr",
     "output_type": "stream",
     "text": [
      "/home/jonny/.local/lib/python3.6/site-packages/scipy/stats/stats.py:1713: FutureWarning: Using a non-tuple sequence for multidimensional indexing is deprecated; use `arr[tuple(seq)]` instead of `arr[seq]`. In the future this will be interpreted as an array index, `arr[np.array(seq)]`, which will result either in an error or a different result.\n",
      "  return np.add.reduce(sorted[indexer] * weights, axis=axis) / sumval\n"
     ]
    },
    {
     "data": {
      "text/plain": [
       "<matplotlib.axes._subplots.AxesSubplot at 0x7f50d6248eb8>"
      ]
     },
     "execution_count": 27,
     "metadata": {},
     "output_type": "execute_result"
    },
    {
     "data": {
      "image/png": "[encoded data removed]",
      "text/plain": [
       "<Figure size 432x288 with 1 Axes>"
      ]
     },
     "metadata": {
      "needs_background": "light"
     },
     "output_type": "display_data"
    }
   ],
   "source": [
    "square_meters = data.square_meters[(data.square_meters < 5e+2) & (data.square_meters > 5.)]\n",
    "sns.distplot(square_meters)"
   ]
  },
  {
   "cell_type": "code",
   "execution_count": 28,
   "metadata": {},
   "outputs": [
    {
     "data": {
      "text/plain": [
       "Text(0.5, 0, 'log(square_meters)')"
      ]
     },
     "execution_count": 28,
     "metadata": {},
     "output_type": "execute_result"
    },
    {
     "data": {
      "image/png": "[encoded data removed]",
      "text/plain": [
       "<Figure size 432x288 with 1 Axes>"
      ]
     },
     "metadata": {
      "needs_background": "light"
     },
     "output_type": "display_data"
    }
   ],
   "source": [
    "log_square_meters = np.log1p(square_meters.values)\n",
    "log_sqm_ax = sns.distplot(log_square_meters, fit=norm)\n",
    "log_sqm_ax.set_xlabel('log(square_meters)')"
   ]
  },
  {
   "cell_type": "markdown",
   "metadata": {},
   "source": [
    "## Price"
   ]
  },
  {
   "cell_type": "code",
   "execution_count": 29,
   "metadata": {},
   "outputs": [
    {
     "name": "stdout",
     "output_type": "stream",
     "text": [
      "There are 461 entries with price=0€\n"
     ]
    }
   ],
   "source": [
    "prices = data['price']\n",
    "\n",
    "print(f\"There are {len(prices.loc[prices == 0])} entries with price=0€\")\n",
    "\n",
    "prices = prices.loc[prices > 1e+4]"
   ]
  },
  {
   "cell_type": "code",
   "execution_count": 30,
   "metadata": {},
   "outputs": [
    {
     "name": "stdout",
     "output_type": "stream",
     "text": [
      "There are 11 houses with prices above 100 million €\n",
      "\n",
      "\n",
      "Here they are:\n"
     ]
    },
    {
     "data": {
      "text/plain": [
       "682      168000524000\n",
       "701      186000894000\n",
       "953      169000179000\n",
       "1120     289000323000\n",
       "7365     139000252000\n",
       "7939     161158236132\n",
       "8204     340000390000\n",
       "8442     283988798088\n",
       "9027     418000540000\n",
       "18390    280000780000\n",
       "25605    231000693000\n",
       "Name: price, dtype: int64"
      ]
     },
     "execution_count": 30,
     "metadata": {},
     "output_type": "execute_result"
    }
   ],
   "source": [
    "fake_outliers = prices.loc[prices > 1e+8]\n",
    "print(f\"There are {len(fake_outliers)} houses with prices above 100 million €\")\n",
    "print(\"\\n\\nHere they are:\")\n",
    "fake_outliers"
   ]
  },
  {
   "cell_type": "code",
   "execution_count": 31,
   "metadata": {},
   "outputs": [],
   "source": [
    "bad_indices = [682, 701, 7365, 7939, 8442, 18390, 25605]\n",
    "prices = prices.drop(index=bad_indices)\n",
    "\n",
    "fake_outliers = fake_outliers.drop(index=bad_indices)\n",
    "\n",
    "fake_outliers.loc[953] = (169000 + 179000) / 2\n",
    "fake_outliers.loc[1120] = (289000 + 323000) / 2\n",
    "fake_outliers.loc[8204] = (340000 + 390000) / 2\n",
    "fake_outliers.loc[9027] = (418000 + 540000) / 2\n",
    "\n",
    "prices.loc[fake_outliers.index] = fake_outliers\n",
    "data.loc[fake_outliers.index].price = fake_outliers"
   ]
  },
  {
   "cell_type": "markdown",
   "metadata": {},
   "source": [
    "Since we're not trying to explore the luxurious house market, but rather the standard one for laypeople, we'll drop houses priced at more than 2 million € for this analysis."
   ]
  },
  {
   "cell_type": "code",
   "execution_count": 32,
   "metadata": {},
   "outputs": [
    {
     "data": {
      "text/plain": [
       "<matplotlib.axes._subplots.AxesSubplot at 0x7f50d604c080>"
      ]
     },
     "execution_count": 32,
     "metadata": {},
     "output_type": "execute_result"
    },
    {
     "data": {
      "image/png": "[encoded data removed]",
      "text/plain": [
       "<Figure size 432x288 with 1 Axes>"
      ]
     },
     "metadata": {
      "needs_background": "light"
     },
     "output_type": "display_data"
    }
   ],
   "source": [
    "prices = prices.loc[prices < 2e+6]\n",
    "sns.distplot(prices.values)"
   ]
  },
  {
   "cell_type": "code",
   "execution_count": 33,
   "metadata": {},
   "outputs": [
    {
     "name": "stdout",
     "output_type": "stream",
     "text": [
      "Price Mean: 341686.42\n",
      "Price Median: 260000.00\n",
      "Price Std: 271519.91\n"
     ]
    }
   ],
   "source": [
    "print(\"Price Mean: {:.2f}\".format(prices.mean()))\n",
    "print(\"Price Median: {:.2f}\".format(prices.median()))\n",
    "print(\"Price Std: {:.2f}\".format(prices.std()))"
   ]
  },
  {
   "cell_type": "code",
   "execution_count": 34,
   "metadata": {},
   "outputs": [
    {
     "data": {
      "text/plain": [
       "Text(0.5, 0, 'log(price)')"
      ]
     },
     "execution_count": 34,
     "metadata": {},
     "output_type": "execute_result"
    },
    {
     "data": {
      "image/png": "[encoded data removed]",
      "text/plain": [
       "<Figure size 432x288 with 1 Axes>"
      ]
     },
     "metadata": {
      "needs_background": "light"
     },
     "output_type": "display_data"
    }
   ],
   "source": [
    "log_prices = np.log1p(prices.values)\n",
    "price_ax = sns.distplot(log_prices, fit=norm)\n",
    "price_ax.set_xlabel('log(price)')"
   ]
  },
  {
   "cell_type": "markdown",
   "metadata": {},
   "source": [
    "# Price VS Coordinates"
   ]
  },
  {
   "cell_type": "code",
   "execution_count": null,
   "metadata": {},
   "outputs": [],
   "source": [
    "from sklearn.neighbors import KernelDensity\n",
    "from sklearn.model_selection import GridSearchCV\n",
    "\n",
    "\n",
    "kde_bands = np.logspace(-2.5, 0.25, 20)\n",
    "params = {'bandwidth': kde_bands}\n",
    "grid = GridSearchCV(KernelDensity(), params, cv=5)\n",
    "grid.fit(log_prices.values.reshape(-1,1))\n",
    "\n",
    "fig, ax = plt.subplots(1,2, figsize=(15,5))\n",
    "ax[0].plot(kde_bands, grid.cv_results_['mean_test_score'])\n",
    "ax[0].title.set_text('Cross Validation Score')\n",
    "\n",
    "eval_pts = np.linspace(10, 15, 60)\n",
    "ax[1].plot(eval_pts, np.exp(grid.best_estimator_.score_samples(eval_pts.reshape(-1,1))))\n",
    "ax[1].title.set_text('Estimated Density')\n",
    "\n",
    "plt.show()"
   ]
  },
  {
   "cell_type": "code",
   "execution_count": null,
   "metadata": {},
   "outputs": [],
   "source": [
    "# selecting relevant columns for price analysis\n",
    "data_coords = data[['latitude', 'longitude']]\n",
    "data_coords = data_coords.loc[data.type == 'Appartamento']\n",
    "data_coords['price_sqm'] = data.price / data.square_meters\n",
    "\n",
    "# discarding isolated, 'rural' houses\n",
    "#data_coords = data_coords.loc[\n",
    "#    (data_coords.latitude > data_coords.latitude.quantile(0.15)) & \n",
    "#    (data_coords.latitude < data_coords.latitude.quantile(0.9)) & \n",
    "#    (data_coords.longitude > data_coords.longitude.quantile(0.15)) & \n",
    "#    (data_coords.longitude < data_coords.longitude.quantile(0.9))\n",
    "#]\n",
    "\n",
    "bg = Image.open('screenshot_roma.png')\n",
    "bg_x_span = np.r_[12.160484, 12.751934]\n",
    "bg_y_span = np.r_[41.658783, 42.023778]\n",
    "\n",
    "data_coords = data_coords.loc[\n",
    "    (data_coords.latitude > bg_x_span[0]) & \n",
    "    (data_coords.latitude < bg_x_span[1]) & \n",
    "    (data_coords.longitude > bg_y_span[0]) & \n",
    "    (data_coords.longitude < bg_y_span[1])\n",
    "]\n",
    "\n",
    "# normalizing coordinates\n",
    "coord_means = data_coords.mean()\n",
    "coord_stds = data_coords.std()\n",
    "\n",
    "data_coords['latitude'] = (data_coords.latitude - coord_means.latitude) / coord_stds.latitude\n",
    "data_coords['longitude'] = (data_coords.longitude - coord_means.longitude) / coord_stds.longitude\n",
    "\n",
    "bg_x_span = (bg_x_span - coord_means.latitude) / coord_stds.latitude\n",
    "bg_y_span = (bg_y_span - coord_means.longitude) / coord_stds.longitude"
   ]
  },
  {
   "cell_type": "code",
   "execution_count": null,
   "metadata": {},
   "outputs": [],
   "source": [
    "# cross validating KDE\n",
    "kde_bands = np.logspace(-2, 1, 20)\n",
    "params = {'bandwidth': kde_bands}\n",
    "grid = GridSearchCV(KernelDensity(), params, cv=5)\n",
    "grid.fit(data_coords.iloc[:5000][['latitude', 'longitude']])\n",
    "kde = grid.best_estimator_\n",
    "\n",
    "# plotting cv score\n",
    "plt.plot(kde_bands, grid.cv_results_['mean_test_score'])\n",
    "plt.show()"
   ]
  },
  {
   "cell_type": "code",
   "execution_count": null,
   "metadata": {},
   "outputs": [],
   "source": [
    "# plotting desity estimation\n",
    "fig, ax = plt.subplots(1,1)\n",
    "\n",
    "resolution = 100\n",
    "x = np.linspace(data_coords.latitude.min(), data_coords.latitude.max(), resolution)\n",
    "y = np.linspace(data_coords.longitude.min(), data_coords.longitude.max(), resolution)\n",
    "X, Y = np.meshgrid(x,y)\n",
    "Z = kde.score_samples(np.vstack([X.ravel(),Y.ravel()]).T)\n",
    "Z = np.exp(Z.reshape(X.shape))\n",
    "\n",
    "levels = np.linspace(Z.min(), Z.max(), 50)\n",
    "ax.contourf(X, Y, Z, levels=levels, cmap=plt.cm.seismic)\n",
    "plt.show()"
   ]
  },
  {
   "cell_type": "code",
   "execution_count": null,
   "metadata": {},
   "outputs": [],
   "source": [
    "data_coords = data_coords.loc[(data_coords.price_sqm > 0) & (data_coords.price_sqm < 7000)]\n",
    "\n",
    "gaussian = lambda x,sg: np.exp(- 0.5 * x / sg ** 2)\n",
    "#1. / (2 * np.pi) / sg ** 2 *\n",
    "\n",
    "def nadaraya_watson_kr (dx, dy, dz, ex, ey, kernel, bandwidth):\n",
    "    dX, eX = np.meshgrid(dx, ex)\n",
    "    dY, eY = np.meshgrid(dy, ey)\n",
    "    \n",
    "    K = kernel((dX - eX) ** 2 + (dY - eY) ** 2, bandwidth)\n",
    "    return np.dot(K, dz) / K.sum(axis=1)\n",
    "\n",
    "predictions = nadaraya_watson_kr (\n",
    "    dx=data_coords['latitude'],\n",
    "    dy=data_coords['longitude'],\n",
    "    dz=data_coords['price_sqm'],\n",
    "    ex=X.ravel(),\n",
    "    ey=Y.ravel(),\n",
    "    kernel=gaussian,\n",
    "    bandwidth=0.045\n",
    ")"
   ]
  },
  {
   "cell_type": "code",
   "execution_count": null,
   "metadata": {},
   "outputs": [],
   "source": [
    "def transparent_cmap(cmap, N=255):\n",
    "    \"Copy colormap and set alpha values\"\n",
    "\n",
    "    mycmap = cmap\n",
    "    mycmap._init()\n",
    "    mycmap._lut[:,-1] = np.linspace(0, 0.8, N+4)\n",
    "    return mycmap\n",
    "\n",
    "#predictions[predictions > 5700.] = 0.\n",
    "plt.figure(figsize=(15,15))\n",
    "levels = np.linspace(predictions.min(), predictions.max(), 50)\n",
    "plt.imshow(bg, extent=tuple(np.r_[bg_x_span, bg_y_span]))\n",
    "plt.contourf(X, Y, predictions.reshape(X.shape), levels=levels, cmap=transparent_cmap(plt.cm.Reds))\n",
    "plt.colorbar()\n",
    "plt.show()"
   ]
  }
 ],
 "metadata": {
  "kernelspec": {
   "display_name": "Python 3",
   "language": "python",
   "name": "python3"
  },
  "language_info": {
   "codemirror_mode": {
    "name": "ipython",
    "version": 3
   },
   "file_extension": ".py",
   "mimetype": "text/x-python",
   "name": "python",
   "nbconvert_exporter": "python",
   "pygments_lexer": "ipython3",
   "version": "3.6.9"
  }
 },
 "nbformat": 4,
 "nbformat_minor": 4
}
