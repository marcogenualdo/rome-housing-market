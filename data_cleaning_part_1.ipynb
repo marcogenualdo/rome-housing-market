{
 "cells": [
  {
   "cell_type": "markdown",
   "metadata": {},
   "source": [
    "# Data cleaning - Part 1\n",
    "\n",
    "Il webscraper ha sbagliato principalmente 2 cose:\n",
    "- in alcune pagine non era indicata la tipologia della casa in un apposito campo, ma solo la classe catastale, 'A/2' e 'A/7' nei casi osservati, che corrispondono alle Ville e ai Villini\n",
    "- in altre pagine la condizione dell'appartamento appariva nel campo solitamente destinato all'anno\n",
    "\n",
    "In questo notebook eliminiamo i due fenomeni e creiamo un nuovo .csv \"pulito\"."
   ]
  },
  {
   "cell_type": "code",
   "execution_count": 1,
   "metadata": {},
   "outputs": [],
   "source": [
    "import numpy as np\n",
    "import pandas as pd\n",
    "\n",
    "with open('immobiliare_data_raw.csv', 'r') as data_file:\n",
    "    data = pd.read_csv(data_file)"
   ]
  },
  {
   "cell_type": "code",
   "execution_count": 12,
   "metadata": {},
   "outputs": [
    {
     "name": "stdout",
     "output_type": "stream",
     "text": [
      "21 51 7876\n"
     ]
    }
   ],
   "source": [
    "types_list = [\n",
    "    'Appartamento',\n",
    "    'Attico',\n",
    "    'Loft',\n",
    "    'Open Space',\n",
    "    'Mansarda',\n",
    "    'Soffitta'\n",
    "]\n",
    "\n",
    "condition_list = [\n",
    "    'Nuovo / In costruzione',\n",
    "    'Nuovo/In costruzione'\n",
    "    'Da ristrutturare',\n",
    "    'Da ristrutturare',\n",
    "    'Ottimo/Ristrutturato',\n",
    "    'Ottimo / Ristrutturato',\n",
    "    'Buono / Abitabile',\n",
    "    'Buono/Abitabile'\n",
    "]\n",
    "\n",
    "wrong_apt_idxs = []\n",
    "wrong_vil_idxs = []\n",
    "wrong_year_idxs = []\n",
    "for k,row in data.iterrows():\n",
    "    if (\n",
    "        isinstance(row.condition, str) \n",
    "        and row.condition.find('Classe A/2') > -1\n",
    "        and row.type not in types_list\n",
    "    ):\n",
    "        wrong_apt_idxs.append(k)\n",
    "        \n",
    "    if (\n",
    "        isinstance(row.condition, str) \n",
    "        and row.condition.find('Classe A/7') > -1\n",
    "        and row.type not in types_list\n",
    "    ):\n",
    "        wrong_vil_idxs.append(k)\n",
    "        \n",
    "    if (\n",
    "        isinstance(row.condition, str) and isinstance(row.year_built, str)\n",
    "        and all([t < 0 for t in [row.condition.find(cond) for cond in condition_list]])\n",
    "        and any([s > -1 for s in [row.year_built.find(cond) for cond in condition_list]]) \n",
    "    ):\n",
    "        wrong_year_idxs.append(k)\n",
    "        \n",
    "print(len(wrong_apt_idxs), len(wrong_vil_idxs), len(wrong_year_idxs))"
   ]
  },
  {
   "cell_type": "code",
   "execution_count": 13,
   "metadata": {
    "scrolled": true
   },
   "outputs": [],
   "source": [
    "data.loc[wrong_apt_idxs,'type'] = 'Villa'\n",
    "data.loc[wrong_apt_idxs,'condition'] = 'NA'\n",
    "\n",
    "data.loc[wrong_vil_idxs,'type'] = 'Villino'\n",
    "data.loc[wrong_vil_idxs,'condition'] = 'NA'\n",
    "\n",
    "data.loc[wrong_year_idxs,'condition'] = data.loc[wrong_year_idxs,'year_built']\n",
    "data.loc[wrong_year_idxs,'year_built'] = '0'\n",
    "\n",
    "with open('immobiliare_data.csv', 'w') as out_file:\n",
    "    data.to_csv(out_file)"
   ]
  }
 ],
 "metadata": {
  "kernelspec": {
   "display_name": "Python 3",
   "language": "python",
   "name": "python3"
  },
  "language_info": {
   "codemirror_mode": {
    "name": "ipython",
    "version": 3
   },
   "file_extension": ".py",
   "mimetype": "text/x-python",
   "name": "python",
   "nbconvert_exporter": "python",
   "pygments_lexer": "ipython3",
   "version": "3.6.9"
  }
 },
 "nbformat": 4,
 "nbformat_minor": 2
}
